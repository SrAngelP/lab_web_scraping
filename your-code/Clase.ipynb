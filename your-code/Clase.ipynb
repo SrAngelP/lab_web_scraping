{
 "cells": [
  {
   "cell_type": "code",
   "execution_count": 1,
   "id": "c4f9103a",
   "metadata": {},
   "outputs": [],
   "source": [
    "import selenium\n",
    "import warnings\n",
    "import time\n",
    "from selenium import webdriver\n",
    "from selenium.webdriver.common.keys import Keys\n",
    "from selenium.webdriver.common.by import By"
   ]
  },
  {
   "cell_type": "code",
   "execution_count": 4,
   "id": "d66cf9af",
   "metadata": {},
   "outputs": [],
   "source": [
    "warnings.simplefilter('ignore')"
   ]
  },
  {
   "cell_type": "code",
   "execution_count": 12,
   "id": "d8a3134f",
   "metadata": {},
   "outputs": [
    {
     "data": {
      "text/plain": [
       "'4.5.0'"
      ]
     },
     "execution_count": 12,
     "metadata": {},
     "output_type": "execute_result"
    }
   ],
   "source": [
    "#selenium.__version__\n",
    "#webdriver.__version__"
   ]
  },
  {
   "cell_type": "code",
   "execution_count": 83,
   "id": "53e4f0cd",
   "metadata": {},
   "outputs": [],
   "source": [
    "driver = webdriver.Chrome('chromedriver')\n",
    "driver.get('http://www.google.com')\n",
    "assert \"Google\" in driver.title\n",
    "time.sleep(5)\n",
    "elem = driver.find_element(By.NAME,'q') #Busca el elemento para buscar en la página\n",
    "elem.clear()\n",
    "elem.send_keys('gatos ');\n",
    "time.sleep(1)\n",
    "elem.send_keys('chidos');\n",
    "elem.send_keys(Keys.RETURN);\n",
    "time.sleep(4);\n",
    "driver.close();\n"
   ]
  },
  {
   "cell_type": "code",
   "execution_count": 2,
   "id": "eb9c347a",
   "metadata": {},
   "outputs": [],
   "source": [
    "import time \n",
    "import re \n",
    "import sys\n",
    "import requests \n",
    "from pathlib import Path\n",
    "\n",
    "import numpy as np\n",
    "import pandas as pd \n",
    "\n",
    "from bs4 import BeautifulSoup\n",
    "\n",
    "from selenium.webdriver.common.by import By\n",
    "from selenium import webdriver\n",
    "from selenium.webdriver.common.keys import Keys\n",
    "from selenium.webdriver.common.action_chains import ActionChains\n"
   ]
  },
  {
   "cell_type": "code",
   "execution_count": 25,
   "id": "11868f9c",
   "metadata": {},
   "outputs": [],
   "source": [
    "url = 'https://es.aliexpress.com/category/204011178/smart-electronics.html';\n",
    "aliexpress = requests.get(url).content"
   ]
  },
  {
   "cell_type": "code",
   "execution_count": 58,
   "id": "e8f058c5",
   "metadata": {},
   "outputs": [],
   "source": [
    "driver = webdriver.Chrome('chromedriver')\n",
    "driver.get(url)\n",
    "time.sleep(2)\n",
    "pagweb = driver.page_source;\n",
    "driver.quit();"
   ]
  },
  {
   "cell_type": "code",
   "execution_count": 59,
   "id": "335d5e31",
   "metadata": {},
   "outputs": [
    {
     "data": {
      "text/plain": [
       "[<a class=\"_3t7zg _2f4Ho\" href=\"//es.aliexpress.com/item/1005004737237352.html?algo_pvid=a2490b24-7af5-46d5-a0a7-c04f900fb37e&amp;algo_exp_id=a2490b24-7af5-46d5-a0a7-c04f900fb37e-0&amp;pdp_ext_f=%7B%22sku_id%22%3A%2212000030290949785%22%7D&amp;pdp_npi=2%40dis%21MXN%21139.16%2168.17%21%21%21%21%21%40210318cf16674312342108145e4161%2112000030290949785%21sea&amp;curPageLogUid=i5gtgG3ZHyDH\" style=\"text-align: left;\" target=\"_blank\"><div class=\"_3A0hz gYJvK\" style=\"padding-bottom: 100%;\"><img alt=\"Xiaomi-reloj inteligente deportivo para hombre y mujer, pulsera resistente al agua con control del ritmo cardíaco y de la presión sanguínea para Android e IOS\" class=\"_1RtJV product-img\" src=\"//ae01.alicdn.com/kf/S5f3b60120f1940b5932aaa5c9a515fc98/For-Xiaomi-Smart-Band-Waterproof-Sport-Smart-Watch-Men-Woman-Blood-Pressure-Heart-Rate-Monitor-Fitness.jpg_220x220xz.jpg_.webp\"/><div><div class=\"report-btn-wrap\"><span class=\"report-item\" title=\"Report fraud item\"></span></div></div><div class=\"atwl-btn-wrap\"><a class=\"add-wishlist-btn\" data-p4p=\"true\"><i class=\"next-icon next-icon-favourite next-medium\" data-p4p=\"true\"></i></a></div></div><div class=\"_3GR-w\"><div class=\"_1tu1Z Vgu6S\"><h1 class=\"_18_85\">Xiaomi-reloj inteligente deportivo para hombre y mujer, pulsera resistente al agua con control del ritmo cardíaco y de la presión sanguínea para Android e IOS </h1></div><div class=\"mGXnE _37W_B\"><span style=\"font-size: 12px;\">MXN$</span><span style=\"font-size: 20px;\">68</span><span style=\"font-size: 12px;\">.</span><span style=\"font-size: 12px;\">17</span></div><div class=\"_11_8K\"></div><div class=\"g_XRl\"><span style=\"color: rgb(185, 36, 15);\">100.55 MXN$ dto. cada 603.32 MXN$</span></div><div class=\"ZzMrp\"><span class=\"_1kNf9\">1131 vendido(s)</span><img class=\"_11Omk\" height=\"11\" src=\"//ae01.alicdn.com/kf/HTB1S2ffafvsK1Rjy0Fi762wtXXaS.png\" width=\"12\"/><span class=\"eXPaM\">4.7</span></div><div class=\"KnIS- _4juNd\"><div><span class=\"_2jcMA\">Envío gratis</span></div></div><div class=\"_21aoB\"></div><span class=\"_7CHGi\"><a class=\"ox0KZ\" href=\"//es.aliexpress.com/store/1102200311\" role=\"store\" target=\"_blank\">AAA Factory Outlet Store</a></span></div></a>,\n",
       " <a class=\"_3t7zg _2f4Ho\" href=\"//es.aliexpress.com/item/1005004502114426.html?algo_pvid=a2490b24-7af5-46d5-a0a7-c04f900fb37e&amp;algo_exp_id=a2490b24-7af5-46d5-a0a7-c04f900fb37e-1&amp;pdp_ext_f=%7B%22sku_id%22%3A%2212000029387043785%22%7D&amp;pdp_npi=2%40dis%21MXN%21164.5%211.81%21%21%21%21%21%40210318cf16674312342108145e4161%2112000029387043785%21sea&amp;curPageLogUid=emXv8XElvjB1\" style=\"text-align: left;\" target=\"_blank\"><div class=\"_3A0hz gYJvK\" style=\"padding-bottom: 100%;\"><img alt=\"Reloj inteligente deportivo para hombre y mujer, accesorio de pulsera resistente al agua con control del ritmo cardíaco y de la presión sanguínea, compatible con Android e IOS, 2022\" class=\"_1RtJV product-img\" src=\"//ae01.alicdn.com/kf/Sc95babc6842f45b78f4d58b607ad91f8v/2022-Smart-Watch-Men-Blood-Pressure-Waterproof-Smartwatch-Women-Heart-Rate-Monitor-Fitness-Tracker-Watch-Sport.jpg_220x220xz.jpg_.webp\"/><div><div class=\"report-btn-wrap\"><span class=\"report-item\" title=\"Report fraud item\"></span></div></div><div class=\"atwl-btn-wrap\"><a class=\"add-wishlist-btn\" data-p4p=\"true\"><i class=\"next-icon next-icon-favourite next-medium\" data-p4p=\"true\"></i></a></div></div><div class=\"_3GR-w\"><div class=\"_1tu1Z Vgu6S\"><h1 class=\"_18_85\">Reloj inteligente deportivo para hombre y mujer, accesorio de pulsera resistente al agua con control del ritmo cardíaco y de la presión sanguínea, compatible con Android e IOS, 2022 </h1></div><div class=\"mGXnE _37W_B\"><span style=\"font-size: 12px;\">MXN$</span><span style=\"font-size: 20px;\">1</span><span style=\"font-size: 12px;\">.</span><span style=\"font-size: 12px;\">81</span></div><div class=\"_11_8K\"><span style=\"text-decoration: line-through; color: rgb(153, 153, 153);\">MXN$164.5</span><span class=\"_2LVIV\">-98%</span></div><div class=\"_11_8K\"></div><div class=\"i0heB\"><span>Bonus de Nuevo Usuario</span></div><div class=\"g_XRl\"><span style=\"color: rgb(185, 36, 15);\">100.55 MXN$ dto. cada 603.32 MXN$</span></div><div class=\"ZzMrp\"><span class=\"_1kNf9\">706 vendido(s)</span><img class=\"_11Omk\" height=\"11\" src=\"//ae01.alicdn.com/kf/HTB1S2ffafvsK1Rjy0Fi762wtXXaS.png\" width=\"12\"/><span class=\"eXPaM\">4.1</span></div><div class=\"KnIS- _4juNd\"><div><span class=\"_2jcMA\">Envío gratis</span></div></div><div class=\"_21aoB\"></div><span class=\"_7CHGi\"><a class=\"ox0KZ\" href=\"//es.aliexpress.com/store/4972080\" role=\"store\" target=\"_blank\">HGREEN Store</a></span></div></a>,\n",
       " <a class=\"_3t7zg _2f4Ho\" href=\"//es.aliexpress.com/item/1005004750033579.html?algo_pvid=a2490b24-7af5-46d5-a0a7-c04f900fb37e&amp;algo_exp_id=a2490b24-7af5-46d5-a0a7-c04f900fb37e-2&amp;pdp_ext_f=%7B%22sku_id%22%3A%2212000030333828719%22%7D&amp;pdp_npi=2%40dis%21MXN%21692.61%21692.61%21%21%21%21%21%40210318cf16674312342108145e4161%2112000030333828719%21sea&amp;curPageLogUid=3GAdL2p6p4HX\" style=\"text-align: left;\" target=\"_blank\"><div class=\"_3A0hz gYJvK\" style=\"padding-bottom: 100%;\"><img alt='SH-Soporte de luz de escritorio con abrazadera en C, trípode con cabeza de bola de 1/4 \", soporte de sobremesa ajustable para cámara, anillo de luz' class=\"_1RtJV product-img\" src=\"//ae01.alicdn.com/kf/S9a3f8e1741c04d228cb81130d94494c5U/SH-Desktop-Light-Stand-C-clamp-Light-Tripod-With-1-4-Ball-Head-Adjustable-Tabletop-Bracket.jpg_220x220xz.jpg_.webp\"/><div><div class=\"report-btn-wrap\"><span class=\"report-item\" title=\"Report fraud item\"></span></div></div><div class=\"atwl-btn-wrap\"><a class=\"add-wishlist-btn\" data-p4p=\"true\"><i class=\"next-icon next-icon-favourite next-medium\" data-p4p=\"true\"></i></a></div></div><div class=\"_3GR-w\"><div class=\"_1tu1Z Vgu6S\"><h1 class=\"_18_85\">SH-Soporte de luz de escritorio con abrazadera en C, trípode con cabeza de bola de 1/4 \", soporte de sobremesa ajustable para cámara, anillo de luz </h1></div><div class=\"mGXnE _37W_B\"><span style=\"font-size: 12px;\">MXN$</span><span style=\"font-size: 20px;\">692</span><span style=\"font-size: 12px;\">.</span><span style=\"font-size: 12px;\">61</span></div><div class=\"_11_8K\"></div><div class=\"ZzMrp\"><span class=\"_1kNf9\">115 vendido(s)</span><img class=\"_11Omk\" height=\"11\" src=\"//ae01.alicdn.com/kf/HTB1S2ffafvsK1Rjy0Fi762wtXXaS.png\" width=\"12\"/><span class=\"eXPaM\">5</span></div><div class=\"KnIS- _4juNd\"><div><span class=\"_2jcMA\">Envío gratis</span></div></div><div class=\"_21aoB\"></div><span class=\"_7CHGi\"><a class=\"ox0KZ\" href=\"//es.aliexpress.com/store/1102215231\" role=\"store\" target=\"_blank\">Shop1102215231 Store</a></span></div></a>,\n",
       " <a class=\"_3t7zg _2f4Ho\" href=\"//es.aliexpress.com/item/1005004750162699.html?algo_pvid=a2490b24-7af5-46d5-a0a7-c04f900fb37e&amp;algo_exp_id=a2490b24-7af5-46d5-a0a7-c04f900fb37e-3&amp;pdp_ext_f=%7B%22sku_id%22%3A%2212000030334423361%22%7D&amp;pdp_npi=2%40dis%21MXN%21423.93%21423.93%21%21%21%21%21%40210318cf16674312342108145e4161%2112000030334423361%21sea&amp;curPageLogUid=aWEcCqlIust5\" style=\"text-align: left;\" target=\"_blank\"><div class=\"_3A0hz gYJvK\" style=\"padding-bottom: 100%;\"><img alt=\"Trípode de cámara de 184CM con almacenamiento máximo de 6kg, 50CM, luz de fotografía para anillo de luz, reflectores, Softbox, paraguas, fondos\" class=\"_1RtJV product-img\" src=\"//ae01.alicdn.com/kf/Sbcf32aa91c87465b89568aa65cd6468ds/184CM-Camera-Tripod-Stands-Max-6kg-Storage-50CM-Photography-Light-For-Ring-Light-Reflectors-Softbox-Umbrellas.jpg_220x220xz.jpg_.webp\"/><div><div class=\"report-btn-wrap\"><span class=\"report-item\" title=\"Report fraud item\"></span></div></div><div class=\"atwl-btn-wrap\"><a class=\"add-wishlist-btn\" data-p4p=\"true\"><i class=\"next-icon next-icon-favourite next-medium\" data-p4p=\"true\"></i></a></div></div><div class=\"_3GR-w\"><div class=\"_1tu1Z Vgu6S\"><h1 class=\"_18_85\">Trípode de cámara de 184CM con almacenamiento máximo de 6kg, 50CM, luz de fotografía para anillo de luz, reflectores, Softbox, paraguas, fondos </h1></div><div class=\"mGXnE _37W_B\"><span style=\"font-size: 12px;\">MXN$</span><span style=\"font-size: 20px;\">423</span><span style=\"font-size: 12px;\">.</span><span style=\"font-size: 12px;\">93</span></div><div class=\"_11_8K\"></div><div class=\"ZzMrp\"><span class=\"_1kNf9\">132 vendido(s)</span><img class=\"_11Omk\" height=\"11\" src=\"//ae01.alicdn.com/kf/HTB1S2ffafvsK1Rjy0Fi762wtXXaS.png\" width=\"12\"/><span class=\"eXPaM\">5</span></div><div class=\"KnIS- _4juNd\"><div><span class=\"_2jcMA\">Envío gratis</span></div></div><div class=\"_21aoB\"></div><span class=\"_7CHGi\"><a class=\"ox0KZ\" href=\"//es.aliexpress.com/store/1102211762\" role=\"store\" target=\"_blank\">Shop1102211762 Store</a></span></div></a>,\n",
       " <a class=\"_3t7zg _2f4Ho\" href=\"//es.aliexpress.com/item/1005004768190546.html?algo_pvid=a2490b24-7af5-46d5-a0a7-c04f900fb37e&amp;aem_p4p_detail=202211021620343594581442095280011573833&amp;algo_exp_id=a2490b24-7af5-46d5-a0a7-c04f900fb37e-4&amp;pdp_ext_f=%7B%22sku_id%22%3A%2212000030402005534%22%7D&amp;pdp_npi=2%40dis%21MXN%211040.92%21520.46%21%21%21%21%21%40210318cf16674312342108145e4161%2112000030402005534%21sea&amp;curPageLogUid=RGvwvZ8WABlg&amp;ad_pvid=202211021620343594581442095280011573833_1\" style=\"text-align: left;\" target=\"_blank\"><div class=\"_3A0hz gYJvK\" style=\"padding-bottom: 100%;\"><img alt=\"Auriculares inalámbricos con Bluetooth, audífonos HiFi para música A22\" class=\"_1RtJV product-img\" src=\"//ae01.alicdn.com/kf/Sa0724d6093524ae39e2073ae3e2955dfM/NEW-Smart-Watch-Ultra-Series-8-NFC-Smartwatch-Men-Women-Bluetooth-Call-Waterproof-Wireless-Charging-HD.jpg_220x220xz.jpg_.webp\"/><span class=\"_31JQ_\" style=\"background-color: rgba(0, 0, 0, 0.2);\">Anuncio</span><div><div class=\"report-btn-wrap\"><span class=\"report-item\" title=\"Report fraud item\"></span></div></div><div class=\"atwl-btn-wrap\"><a class=\"add-wishlist-btn\" data-p4p=\"true\"><i class=\"next-icon next-icon-favourite next-medium\" data-p4p=\"true\"></i></a></div></div><div class=\"_3GR-w\"><div class=\"_1tu1Z Vgu6S\"><h1 class=\"_18_85\">Auriculares inalámbricos con Bluetooth, audífonos HiFi para música A22 </h1></div><div class=\"mGXnE _37W_B\"><span style=\"font-size: 12px;\">MXN$</span><span style=\"font-size: 20px;\">520</span><span style=\"font-size: 12px;\">.</span><span style=\"font-size: 12px;\">46</span></div><div class=\"_11_8K\"></div><div class=\"ZzMrp\"><span class=\"_1kNf9\">206 vendido(s)</span><img class=\"_11Omk\" height=\"11\" src=\"//ae01.alicdn.com/kf/HTB1S2ffafvsK1Rjy0Fi762wtXXaS.png\" width=\"12\"/><span class=\"eXPaM\">5</span></div><div class=\"KnIS- _4juNd\"><div><span class=\"_2jcMA\">Envío gratis</span></div></div><div class=\"_21aoB\"></div><span class=\"_7CHGi\"><a class=\"ox0KZ\" href=\"//es.aliexpress.com/store/1102314608\" role=\"store\" target=\"_blank\">Shop1102314608 Store</a></span></div></a>,\n",
       " <a class=\"_3t7zg _2f4Ho\" href=\"//es.aliexpress.com/item/1005004749968333.html?algo_pvid=a2490b24-7af5-46d5-a0a7-c04f900fb37e&amp;algo_exp_id=a2490b24-7af5-46d5-a0a7-c04f900fb37e-5&amp;pdp_ext_f=%7B%22sku_id%22%3A%2212000030333612516%22%7D&amp;pdp_npi=2%40dis%21MXN%21692.61%21692.61%21%21%21%21%21%40210318cf16674312342108145e4161%2112000030333612516%21sea&amp;curPageLogUid=cGSr1qG2hAB2\" style=\"text-align: left;\" target=\"_blank\"><div class=\"_3A0hz gYJvK\" style=\"padding-bottom: 100%;\"><img alt=\"Soporte de pared giratorio e inclinable, soporte en T con brazo articulado hecho/vendido\" class=\"_1RtJV product-img\" src=\"//ae01.alicdn.com/kf/Sf4c569dbd9b14ea88521c19675bc633fo/Wall-Mount-Swivel-and-Tilt-T-Bracket-with-Articulating-Arm-Made-Sold.jpg_220x220xz.jpg_.webp\"/><div><div class=\"report-btn-wrap\"><span class=\"report-item\" title=\"Report fraud item\"></span></div></div><div class=\"atwl-btn-wrap\"><a class=\"add-wishlist-btn\" data-p4p=\"true\"><i class=\"next-icon next-icon-favourite next-medium\" data-p4p=\"true\"></i></a></div></div><div class=\"_3GR-w\"><div class=\"_1tu1Z Vgu6S\"><h1 class=\"_18_85\">Soporte de pared giratorio e inclinable, soporte en T con brazo articulado hecho/vendido </h1></div><div class=\"mGXnE _37W_B\"><span style=\"font-size: 12px;\">MXN$</span><span style=\"font-size: 20px;\">692</span><span style=\"font-size: 12px;\">.</span><span style=\"font-size: 12px;\">61</span></div><div class=\"_11_8K\"></div><div class=\"ZzMrp\"><span class=\"_1kNf9\">162 vendido(s)</span><img class=\"_11Omk\" height=\"11\" src=\"//ae01.alicdn.com/kf/HTB1S2ffafvsK1Rjy0Fi762wtXXaS.png\" width=\"12\"/><span class=\"eXPaM\">5</span></div><div class=\"KnIS- _4juNd\"><div><span class=\"_2jcMA\">Envío gratis</span></div></div><div class=\"_21aoB\"></div><span class=\"_7CHGi\"><a class=\"ox0KZ\" href=\"//es.aliexpress.com/store/1102201239\" role=\"store\" target=\"_blank\">Shop1102201239 Store</a></span></div></a>,\n",
       " <a class=\"_3t7zg _2f4Ho\" href=\"//es.aliexpress.com/item/10084.html?algo_pvid=a2490b24-7af5-46d5-a0a7-c04f900fb37e&amp;algo_exp_id=a2490b24-7af5-46d5-a0a7-c04f900fb37e-6&amp;pdp_ext_f=%7B%22sku_id%22%3A%2212000029017228883%22%7D&amp;pdp_npi=2%40dis%21MXN%2115.28%2112.27%21%21%2185.47%21%21%40210318cf16674312342108145e4161%2112000029017228883%21sea&amp;curPageLogUid=pWmyqweNB2IG\" style=\"text-align: left;\" target=\"_blank\"><div class=\"_3A0hz gYJvK\" style=\"padding-bottom: 100%;\"><img alt=\"Blackmix-correa para Xiaomi Mi Band 7, pulsera deportiva, de silicona\" class=\"_1RtJV product-img\" src=\"//ae01.alicdn.com/kf/S1aedb5e0892a480cabb930c7ba74dcfbS/Blackmix-Strap-For-Xiaomi-Mi-Band-7-Sport-Bracelet-Watch-Silicone-Wrist-Strap.png_220x220xz.png_.webp\"/><div><div class=\"report-btn-wrap\"><span class=\"report-item\" title=\"Report fraud item\"></span></div></div><div class=\"atwl-btn-wrap\"><a class=\"add-wishlist-btn\" data-p4p=\"true\"><i class=\"next-icon next-icon-favourite next-medium\" data-p4p=\"true\"></i></a></div></div><div class=\"_3GR-w\"><div class=\"_1tu1Z Vgu6S\"><h1 class=\"_18_85\">Blackmix-correa para Xiaomi Mi Band 7, pulsera deportiva, de silicona </h1></div><div class=\"mGXnE _37W_B\"><span style=\"font-size: 12px;\">MXN$</span><span style=\"font-size: 20px;\">12</span><span style=\"font-size: 12px;\">.</span><span style=\"font-size: 12px;\">27</span></div><div class=\"_11_8K\"></div><div class=\"ZzMrp\"><span class=\"_1kNf9\">7 vendido(s)</span><img class=\"_11Omk\" height=\"11\" src=\"//ae01.alicdn.com/kf/HTB1S2ffafvsK1Rjy0Fi762wtXXaS.png\" width=\"12\"/><span class=\"eXPaM\">5</span></div><div class=\"KnIS- _4juNd\"><div><span class=\"_2jcMA\">+ envío: 85.47 MXN$</span></div><div><span><img class=\"_1mroo\" height=\"15\" src=\"//img.alicdn.com/imgextra/i4/O1CN01CWU3qh1RzOz3tnAET_!!6000000002182-2-tps-48-48.png\" width=\"15\"/><span class=\"_1aWWA\">Entrega rápida en 100.55 MXN$</span></span></div></div><div class=\"_21aoB\"></div><span class=\"_7CHGi\"><a class=\"ox0KZ\" href=\"//es.aliexpress.com/store/1100033050\" role=\"store\" target=\"_blank\">Умный дом Store</a></span></div></a>,\n",
       " <a class=\"_3t7zg _2f4Ho\" href=\"//es.aliexpress.com/item/1005004826401542.html?algo_pvid=a2490b24-7af5-46d5-a0a7-c04f900fb37e&amp;algo_exp_id=a2490b24-7af5-46d5-a0a7-c04f900fb37e-7&amp;pdp_ext_f=%7B%22sku_id%22%3A%2212000030632889914%22%7D&amp;pdp_npi=2%40dis%21MXN%21552.84%21251.18%21%21%21%21%21%40210318cf16674312342108145e4161%2112000030632889914%21sea&amp;curPageLogUid=gY1BqQ7gxFy9\" style=\"text-align: left;\" target=\"_blank\"><div class=\"_3A0hz gYJvK\" style=\"padding-bottom: 100%;\"><img alt=\"Reloj inteligente 8 ultra 49mm para hombre y mujer, nuevo accesorio de pulsera resistente al agua con llamadas, Bluetooth, 8 cargas inalámbricas, 2022\" class=\"_1RtJV product-img\" src=\"//ae01.alicdn.com/kf/Seb8a36ea474545e8a9d829470acaaa23G/Smart-Watch-8-ultra-49mm-New-in-Smart-Watch-8-ultra-Men-Women-SmartWatch-2022-Bluetooth.jpg_220x220xz.jpg_.webp\"/><div><div class=\"report-btn-wrap\"><span class=\"report-item\" title=\"Report fraud item\"></span></div></div><div class=\"atwl-btn-wrap\"><a class=\"add-wishlist-btn\" data-p4p=\"true\"><i class=\"next-icon next-icon-favourite next-medium\" data-p4p=\"true\"></i></a></div></div><div class=\"_3GR-w\"><div class=\"_1tu1Z Vgu6S\"><h1 class=\"_18_85\">Reloj inteligente 8 ultra 49mm para hombre y mujer, nuevo accesorio de pulsera resistente al agua con llamadas, Bluetooth, 8 cargas inalámbricas, 2022 </h1></div><div class=\"mGXnE _37W_B\"><span style=\"font-size: 12px;\">MXN$</span><span style=\"font-size: 20px;\">251</span><span style=\"font-size: 12px;\">.</span><span style=\"font-size: 12px;\">18</span></div><div class=\"_11_8K\"><span style=\"text-decoration: line-through; color: rgb(153, 153, 153);\">MXN$552.84</span><span class=\"_2LVIV\">-54%</span></div><div class=\"_11_8K\"></div><div class=\"i0heB\"><span>Bonus de Nuevo Usuario</span></div><div class=\"g_XRl\"><span style=\"color: rgb(185, 36, 15);\">100.55 MXN$ dto. cada 603.32 MXN$</span></div><div class=\"ZzMrp\"><span class=\"_1kNf9\">1113 vendido(s)</span><img class=\"_11Omk\" height=\"11\" src=\"//ae01.alicdn.com/kf/HTB1S2ffafvsK1Rjy0Fi762wtXXaS.png\" width=\"12\"/><span class=\"eXPaM\">4.3</span></div><div class=\"KnIS- _4juNd\"><div><span class=\"_2jcMA\">Envío gratis</span></div></div><div class=\"_21aoB\"></div><span class=\"_7CHGi\"><a class=\"ox0KZ\" href=\"//es.aliexpress.com/store/910369232\" role=\"store\" target=\"_blank\">TopSmart IwoMax Store</a></span></div></a>,\n",
       " <a class=\"_3t7zg _2f4Ho\" href=\"//es.aliexpress.com/item/10085.html?algo_pvid=a2490b24-7af5-46d5-a0a7-c04f900fb37e&amp;algo_exp_id=a2490b24-7af5-46d5-a0a7-c04f900fb37e-8&amp;pdp_ext_f=%7B%22sku_id%22%3A%2212000029207905383%22%7D&amp;pdp_npi=2%40dis%21MXN%2184.26%2167.37%21%21%2189.69%21%21%40210318cf16674312342108145e4161%2112000029207905383%21sea&amp;curPageLogUid=QyfVods1Icti\" style=\"text-align: left;\" target=\"_blank\"><div class=\"_3A0hz gYJvK\" style=\"padding-bottom: 100%;\"><img alt=\"Xiaomi-Correa de silicona para reloj inteligente, pulsera deportiva Original, 7\" class=\"_1RtJV product-img\" src=\"//ae01.alicdn.com/kf/S40500dc2418c45e281308e490ceb794fQ/Original-Xiaomi-Smart-Band-7-Strap-Sport-Bracelet-Watch-Silicone-Wrist-Strap.png_220x220xz.png_.webp\"/><div><div class=\"report-btn-wrap\"><span class=\"report-item\" title=\"Report fraud item\"></span></div></div><div class=\"atwl-btn-wrap\"><a class=\"add-wishlist-btn\" data-p4p=\"true\"><i class=\"next-icon next-icon-favourite next-medium\" data-p4p=\"true\"></i></a></div></div><div class=\"_3GR-w\"><div class=\"_1tu1Z Vgu6S\"><h1 class=\"_18_85\">Xiaomi-Correa de silicona para reloj inteligente, pulsera deportiva Original, 7 </h1></div><div class=\"mGXnE _37W_B\"><span style=\"font-size: 12px;\">MXN$</span><span style=\"font-size: 20px;\">67</span><span style=\"font-size: 12px;\">.</span><span style=\"font-size: 12px;\">37</span></div><div class=\"_11_8K\"></div><div class=\"ZzMrp\"><span class=\"_1kNf9\">4 vendido(s)</span><img class=\"_11Omk\" height=\"11\" src=\"//ae01.alicdn.com/kf/HTB1S2ffafvsK1Rjy0Fi762wtXXaS.png\" width=\"12\"/><span class=\"eXPaM\">4.4</span></div><div class=\"KnIS- _4juNd\"><div><span class=\"_2jcMA\">+ envío: 89.69 MXN$</span></div><div><span><img class=\"_1mroo\" height=\"15\" src=\"//img.alicdn.com/imgextra/i4/O1CN01CWU3qh1RzOz3tnAET_!!6000000002182-2-tps-48-48.png\" width=\"15\"/><span class=\"_1aWWA\">Entrega rápida en 100.55 MXN$</span></span></div></div><div class=\"_21aoB\"></div><span class=\"_7CHGi\"><a class=\"ox0KZ\" href=\"//es.aliexpress.com/store/1100033050\" role=\"store\" target=\"_blank\">Умный дом Store</a></span></div></a>,\n",
       " <a class=\"_3t7zg _2f4Ho\" href=\"//es.aliexpress.com/item/1005004765417885.html?algo_pvid=a2490b24-7af5-46d5-a0a7-c04f900fb37e&amp;aem_p4p_detail=202211021620343594581442095280011573833&amp;algo_exp_id=a2490b24-7af5-46d5-a0a7-c04f900fb37e-9&amp;pdp_ext_f=%7B%22sku_id%22%3A%2212000030840684548%22%7D&amp;pdp_npi=2%40dis%21MXN%212119.24%21614.58%21%21%21%21%21%40210318cf16674312342108145e4161%2112000030840684548%21sea&amp;curPageLogUid=4NBnVdL74UdG&amp;ad_pvid=202211021620343594581442095280011573833_2\" style=\"text-align: left;\" target=\"_blank\"><div class=\"lazy-load\" style=\"height: 190px;\"></div><div class=\"_3GR-w\"><div class=\"_1tu1Z Vgu6S\"><h1 class=\"_18_85\">Reloj inteligente Ultra 8 NFC, reloj inteligente con desbloqueo de acceso a puerta serie 8, Bluetooth, llamada, 2,02 \", carga inalámbrica, pulsera de Fitness, 380Mah </h1></div><div class=\"mGXnE _37W_B\"><span style=\"font-size: 12px;\">MXN$</span><span style=\"font-size: 20px;\">614</span><span style=\"font-size: 12px;\">.</span><span style=\"font-size: 12px;\">58</span></div><div class=\"_11_8K\"></div><div class=\"g_XRl\"><span style=\"color: rgb(185, 36, 15);\">100.55 MXN$ dto. cada 603.32 MXN$</span></div><div class=\"ZzMrp\"><span class=\"_1kNf9\">219 vendido(s)</span><img class=\"_11Omk\" height=\"11\" src=\"//ae01.alicdn.com/kf/HTB1S2ffafvsK1Rjy0Fi762wtXXaS.png\" width=\"12\"/><span class=\"eXPaM\">5</span></div><div class=\"KnIS- _4juNd\"><div><span class=\"_2jcMA\">Envío gratis</span></div></div><div class=\"_21aoB\"></div><span class=\"_7CHGi\"><a class=\"ox0KZ\" href=\"//es.aliexpress.com/store/1102313335\" role=\"store\" target=\"_blank\">Shop1102313335 Store</a></span></div></a>]"
      ]
     },
     "execution_count": 59,
     "metadata": {},
     "output_type": "execute_result"
    }
   ],
   "source": [
    "electronics = BeautifulSoup(pagweb, 'html')\n",
    "link_to_products = electronics.select('a._3t7zg._2f4Ho')\n",
    "link_to_products"
   ]
  },
  {
   "cell_type": "code",
   "execution_count": 60,
   "id": "22e90b7f",
   "metadata": {},
   "outputs": [
    {
     "data": {
      "text/plain": [
       "10"
      ]
     },
     "execution_count": 60,
     "metadata": {},
     "output_type": "execute_result"
    }
   ],
   "source": [
    "links = [link['href'] for link in link_to_products]\n",
    "len(links)"
   ]
  },
  {
   "cell_type": "code",
   "execution_count": 67,
   "id": "ed6c8cbe",
   "metadata": {},
   "outputs": [],
   "source": [
    "driver = webdriver.Chrome('chromedriver')\n",
    "driver.get(url)\n",
    "time.sleep(6)\n",
    "ActionChains(driver).send_keys(Keys.END).perform();\n",
    "time.sleep(3)\n",
    "ActionChains(driver).send_keys(Keys.END).perform();\n",
    "time.sleep(5)\n",
    "pagweb = driver.page_source;\n",
    "driver.quit();   # python se olvida del driver, bye"
   ]
  },
  {
   "cell_type": "code",
   "execution_count": 69,
   "id": "be90f32d",
   "metadata": {},
   "outputs": [],
   "source": [
    "electronics = BeautifulSoup(pagweb, 'html')\n",
    "link_to_products = electronics.select('a._3t7zg._2f4Ho')\n",
    "len(link_to_products)\n",
    "links = [link['href'] for link in link_to_products]"
   ]
  },
  {
   "cell_type": "code",
   "execution_count": 74,
   "id": "69c67210",
   "metadata": {},
   "outputs": [
    {
     "name": "stdout",
     "output_type": "stream",
     "text": [
      "https://es.aliexpress.com/item/1005004737237352.html?algo_pvid=b599bea6-6799-43b3-8959-7b4b6771ca16&algo_exp_id=b599bea6-6799-43b3-8959-7b4b6771ca16-0&pdp_ext_f=%7B%22sku_id%22%3A%2212000030290949785%22%7D&pdp_npi=2%40dis%21MXN%21139.16%2168.17%21%21%21%21%21%40210318cb16674314245722783e6e7b%2112000030290949785%21sea&curPageLogUid=ccOsDKdmC8M5\n"
     ]
    }
   ],
   "source": [
    "protocol = 'https:'\n",
    "link_w_protocol = [protocol+link for link in links]\n",
    "print(link_w_protocol[0])"
   ]
  },
  {
   "cell_type": "code",
   "execution_count": 76,
   "id": "6abcd6c3",
   "metadata": {},
   "outputs": [],
   "source": [
    "driver = webdriver.Chrome('chromedriver')\n",
    "driver.get(link_w_protocol[0])\n",
    "time.sleep(6)\n",
    "pagweb = driver.page_source;\n",
    "driver.quit();\n",
    "product = BeautifulSoup(pagweb, 'html');"
   ]
  },
  {
   "cell_type": "code",
   "execution_count": 77,
   "id": "96d8f60e",
   "metadata": {},
   "outputs": [
    {
     "data": {
      "text/plain": [
       "'Xiaomi-reloj inteligente deportivo para hombre y mujer, pulsera resistente al agua con control del ritmo cardíaco y de la presión sanguínea para Android e IOS'"
      ]
     },
     "execution_count": 77,
     "metadata": {},
     "output_type": "execute_result"
    }
   ],
   "source": [
    "product_name = product.select('h1.product-title-text')[0]\n",
    "product_name.get_text()"
   ]
  },
  {
   "cell_type": "code",
   "execution_count": 78,
   "id": "1e3be34f",
   "metadata": {},
   "outputs": [
    {
     "data": {
      "text/plain": [
       "'4.720 Valoraciones1135 vendidos'"
      ]
     },
     "execution_count": 78,
     "metadata": {},
     "output_type": "execute_result"
    }
   ],
   "source": [
    "driver = webdriver.Chrome('chromedriver')\n",
    "driver.get(link_w_protocol[0])\n",
    "time.sleep(6)\n",
    "pagweb = driver.page_source;\n",
    "driver.quit();\n",
    "product = BeautifulSoup(pagweb, 'html');\n",
    "\n",
    "product_review = product.select('div.product-reviewer')[0]\n",
    "product_review.get_text()"
   ]
  },
  {
   "cell_type": "code",
   "execution_count": 80,
   "id": "2fca8b0a",
   "metadata": {},
   "outputs": [
    {
     "data": {
      "text/plain": [
       "['4.7', '20 Valoraciones', '1135 vendidos']"
      ]
     },
     "execution_count": 80,
     "metadata": {},
     "output_type": "execute_result"
    }
   ],
   "source": [
    "text = [i.text for i in product_review]\n",
    "text"
   ]
  },
  {
   "cell_type": "code",
   "execution_count": 81,
   "id": "b71fec6c",
   "metadata": {},
   "outputs": [
    {
     "data": {
      "text/plain": [
       "str"
      ]
     },
     "execution_count": 81,
     "metadata": {},
     "output_type": "execute_result"
    }
   ],
   "source": [
    "type(product_review.get_text())"
   ]
  },
  {
   "cell_type": "code",
   "execution_count": 76,
   "id": "5e116c58",
   "metadata": {},
   "outputs": [],
   "source": [
    "\n",
    "\n",
    "def get_page_source(url):\n",
    "    \n",
    "    options = webdriver.ChromeOptions()\n",
    "    options.add_argument('--ignore-certificate-errors')\n",
    "    options.add_argument('--incognito')\n",
    "    driver = webdriver.Chrome('chromedriver', options = options)\n",
    "    driver.get(url)\n",
    "    time.sleep(np.random.randint(3, high=7))\n",
    "    ActionChains(driver).send_keys(Keys.END).perform()\n",
    "    time.sleep(np.random.randint(3, high=7))\n",
    "    ActionChains(driver).send_keys(Keys.END).perform()\n",
    "    pagesource = driver.page_source\n",
    "    \n",
    "    driver.quit()\n",
    "    \n",
    "    return pagesource;\n",
    "\n",
    "def get_links(pagesource):\n",
    "    soup = BeautifulSoup(pagesource, 'html')\n",
    "    link_to_product = soup.select('a[class=\"_3t7zg _2f4Ho\"]')\n",
    "    links = [i['href'] for i in link_to_product]\n",
    "    protocol = 'http:'\n",
    "    links_w_protocol = [protocol+i for i in links]\n",
    "    return links_w_protocol;\n",
    "\n",
    "\n",
    "def random_keypress_generator():\n",
    "    #             40               5                5               10              20          20\n",
    "    keys = [Keys.ARROW_DOWN, Keys.ARROW_LEFT, Keys.ARROW_UP, Keys.ARROW_RIGHT, Keys.PAGE_UP, Keys.END]\n",
    "    action = np.random.choice(keys, p = [0.4, 0.05, 0.05, 0.1, 0.2, 0.2])\n",
    "    return action;\n",
    "    \n",
    "def web_content(link):\n",
    "    \n",
    "    options = webdriver.ChromeOptions()\n",
    "    options.add_argument('--ignore-certificate-errors')\n",
    "    options.add_argument('--incognito')\n",
    "    driver = webdriver.Chrome('chromedriver', options = options)\n",
    "    driver.get(link)\n",
    "    time.sleep(np.random.randint(3, high=5))\n",
    "    \n",
    "    for i in range(np.random.randint(3, high=5)):\n",
    "        ActionChains(driver).send_keys(random_keypress_generator()).perform()\n",
    "        time.sleep(np.random.randint(3, high=5))\n",
    "    pagesource = driver.page_source\n",
    "    driver.quit()\n",
    "    return pagesource;\n",
    "\n",
    "\n",
    "def alies_parser(pagesource):\n",
    "    \n",
    "    \n",
    "    \n",
    "    \n",
    "    product = BeautifulSoup(pagesource, 'lxml');\n",
    "    product_name = product.select('h1.product-title-text');\n",
    "    product_name = product_name[0].get_text();\n",
    "    product_review = product.find('div', class_ = 'product-reviewer')\n",
    "    text = [i.text for i in product_review]\n",
    "    try:\n",
    "        avg_rating = text[0]\n",
    "        num_reviews = re.findall(r'[0-9].+?', text[1])\n",
    "        orders_made = re.findall(r'\\d+', text[2])\n",
    "    except IndexError:\n",
    "        avg_rating = 0;\n",
    "        num_reviews = 0;\n",
    "        orders_made = 0;\n",
    "    try:\n",
    "        price = product.find('span', class_ ='product-price-value').get_text()\n",
    "    except AttributeError:\n",
    "        price = 0;\n",
    "        \n",
    "    return product_name, price, orders_made, avg_rating, num_reviews;\n",
    "\n",
    "\n",
    "def alis_project(url):\n",
    "    \n",
    "    pagesource = get_page_source(url);\n",
    "    links = get_links(pagesource);\n",
    "    print(len(links))\n",
    "    \n",
    "    for num,link in enumerate (links, start = 1):\n",
    "        print('vamos en el link número: ', num)\n",
    "        filename = f\"product_{num}_aliexpress.csv\";\n",
    "        filename = \"project/\"+filename;\n",
    "        print('El documento se guardará en ', filename)\n",
    "        \n",
    "        if not Path(filename).is_file():\n",
    "            pagesource = web_content(link)\n",
    "            print(link)\n",
    "            print('Se terminó de extraer el código fuente de la página del artículo')\n",
    "            info = alies_parser(pagesource)\n",
    "            info = list(info)+[link]\n",
    "            df = pd.DataFrame([info], columns=[\"Product_Name\", \"Price\",\n",
    "                                     \"Orders\", \"Avg_Review_Rating\", \n",
    "                                     \"Total_Reviews\", \n",
    "                                     \"Link\"], dtype = object)\n",
    "            df.to_csv(filename, index = False)\n",
    "            print('Ya se guardó la info')\n",
    "            \n",
    "    print('Finished project')\n",
    "        "
   ]
  },
  {
   "cell_type": "code",
   "execution_count": 77,
   "id": "f3daf17e",
   "metadata": {},
   "outputs": [
    {
     "name": "stdout",
     "output_type": "stream",
     "text": [
      "18\n",
      "vamos en el link número:  1\n",
      "El documento se guardará en  project/product_1_aliexpress.csv\n",
      "vamos en el link número:  2\n",
      "El documento se guardará en  project/product_2_aliexpress.csv\n",
      "vamos en el link número:  3\n",
      "El documento se guardará en  project/product_3_aliexpress.csv\n",
      "vamos en el link número:  4\n",
      "El documento se guardará en  project/product_4_aliexpress.csv\n",
      "http://es.aliexpress.com/item/1005004609736677.html?algo_pvid=bc0d6444-6bb2-4a55-8749-085fe61e4eae&algo_exp_id=bc0d6444-6bb2-4a55-8749-085fe61e4eae-3&pdp_ext_f=%7B%22sku_id%22%3A%2212000029818431786%22%7D&pdp_npi=2%40dis%21MXN%21167.83%210.2%21%21%21%21%21%40210318b916675079664921606ed0b8%2112000029818431786%21sea&curPageLogUid=dp5Z4tL4fE3D\n",
      "Se terminó de extraer el código fuente de la página del artículo\n",
      "Ya se guardó la info\n",
      "vamos en el link número:  5\n",
      "El documento se guardará en  project/product_5_aliexpress.csv\n",
      "http://es.aliexpress.com/item/1005004626555268.html?algo_pvid=bc0d6444-6bb2-4a55-8749-085fe61e4eae&aem_p4p_detail=202211031339265756050815965040000490122&algo_exp_id=bc0d6444-6bb2-4a55-8749-085fe61e4eae-4&pdp_ext_f=%7B%22sku_id%22%3A%2212000029884275584%22%7D&pdp_npi=2%40dis%21MXN%21817.51%21539.59%21%21%21%21%21%40210318b916675079664921606ed0b8%2112000029884275584%21sea&curPageLogUid=Sl1Dp0vheHF8&ad_pvid=202211031339265756050815965040000490122_1\n",
      "Se terminó de extraer el código fuente de la página del artículo\n",
      "Ya se guardó la info\n",
      "vamos en el link número:  6\n",
      "El documento se guardará en  project/product_6_aliexpress.csv\n",
      "http://es.aliexpress.com/item/1005004609708915.html?algo_pvid=bc0d6444-6bb2-4a55-8749-085fe61e4eae&algo_exp_id=bc0d6444-6bb2-4a55-8749-085fe61e4eae-5&pdp_ext_f=%7B%22sku_id%22%3A%2212000029818350706%22%7D&pdp_npi=2%40dis%21MXN%21157.21%210.2%21%21%21%21%21%40210318b916675079664921606ed0b8%2112000029818350706%21sea&curPageLogUid=oPuFKSVcuH4R\n",
      "Se terminó de extraer el código fuente de la página del artículo\n",
      "Ya se guardó la info\n",
      "vamos en el link número:  7\n",
      "El documento se guardará en  project/product_7_aliexpress.csv\n",
      "http://es.aliexpress.com/item/1005004887039053.html?algo_pvid=bc0d6444-6bb2-4a55-8749-085fe61e4eae&algo_exp_id=bc0d6444-6bb2-4a55-8749-085fe61e4eae-6&pdp_ext_f=%7B%22sku_id%22%3A%2212000030894924045%22%7D&pdp_npi=2%40dis%21MXN%213669.28%211064.15%21%21%21%21%21%40210318b916675079664921606ed0b8%2112000030894924045%21sea&curPageLogUid=z3osMQPAULnR\n",
      "Se terminó de extraer el código fuente de la página del artículo\n"
     ]
    },
    {
     "ename": "TypeError",
     "evalue": "'NoneType' object is not iterable",
     "output_type": "error",
     "traceback": [
      "\u001b[1;31m---------------------------------------------------------------------------\u001b[0m",
      "\u001b[1;31mTypeError\u001b[0m                                 Traceback (most recent call last)",
      "Input \u001b[1;32mIn [77]\u001b[0m, in \u001b[0;36m<cell line: 3>\u001b[1;34m()\u001b[0m\n\u001b[0;32m      1\u001b[0m url \u001b[38;5;241m=\u001b[39m \u001b[38;5;124m\"\u001b[39m\u001b[38;5;124mhttps://es.aliexpress.com/category/204011178/smart-electronics.html\u001b[39m\u001b[38;5;124m\"\u001b[39m\n\u001b[1;32m----> 3\u001b[0m \u001b[43malis_project\u001b[49m\u001b[43m(\u001b[49m\u001b[43murl\u001b[49m\u001b[43m)\u001b[49m\n",
      "Input \u001b[1;32mIn [76]\u001b[0m, in \u001b[0;36malis_project\u001b[1;34m(url)\u001b[0m\n\u001b[0;32m     90\u001b[0m \u001b[38;5;28mprint\u001b[39m(link)\n\u001b[0;32m     91\u001b[0m \u001b[38;5;28mprint\u001b[39m(\u001b[38;5;124m'\u001b[39m\u001b[38;5;124mSe terminó de extraer el código fuente de la página del artículo\u001b[39m\u001b[38;5;124m'\u001b[39m)\n\u001b[1;32m---> 92\u001b[0m info \u001b[38;5;241m=\u001b[39m \u001b[43malies_parser\u001b[49m\u001b[43m(\u001b[49m\u001b[43mpagesource\u001b[49m\u001b[43m)\u001b[49m\n\u001b[0;32m     93\u001b[0m info \u001b[38;5;241m=\u001b[39m \u001b[38;5;28mlist\u001b[39m(info)\u001b[38;5;241m+\u001b[39m[link]\n\u001b[0;32m     94\u001b[0m df \u001b[38;5;241m=\u001b[39m pd\u001b[38;5;241m.\u001b[39mDataFrame([info], columns\u001b[38;5;241m=\u001b[39m[\u001b[38;5;124m\"\u001b[39m\u001b[38;5;124mProduct_Name\u001b[39m\u001b[38;5;124m\"\u001b[39m, \u001b[38;5;124m\"\u001b[39m\u001b[38;5;124mPrice\u001b[39m\u001b[38;5;124m\"\u001b[39m,\n\u001b[0;32m     95\u001b[0m                          \u001b[38;5;124m\"\u001b[39m\u001b[38;5;124mOrders\u001b[39m\u001b[38;5;124m\"\u001b[39m, \u001b[38;5;124m\"\u001b[39m\u001b[38;5;124mAvg_Review_Rating\u001b[39m\u001b[38;5;124m\"\u001b[39m, \n\u001b[0;32m     96\u001b[0m                          \u001b[38;5;124m\"\u001b[39m\u001b[38;5;124mTotal_Reviews\u001b[39m\u001b[38;5;124m\"\u001b[39m, \n\u001b[0;32m     97\u001b[0m                          \u001b[38;5;124m\"\u001b[39m\u001b[38;5;124mLink\u001b[39m\u001b[38;5;124m\"\u001b[39m], dtype \u001b[38;5;241m=\u001b[39m \u001b[38;5;28mobject\u001b[39m)\n",
      "Input \u001b[1;32mIn [76]\u001b[0m, in \u001b[0;36malies_parser\u001b[1;34m(pagesource)\u001b[0m\n\u001b[0;32m     57\u001b[0m product_name \u001b[38;5;241m=\u001b[39m product_name[\u001b[38;5;241m0\u001b[39m]\u001b[38;5;241m.\u001b[39mget_text();\n\u001b[0;32m     58\u001b[0m product_review \u001b[38;5;241m=\u001b[39m product\u001b[38;5;241m.\u001b[39mfind(\u001b[38;5;124m'\u001b[39m\u001b[38;5;124mdiv\u001b[39m\u001b[38;5;124m'\u001b[39m, class_ \u001b[38;5;241m=\u001b[39m \u001b[38;5;124m'\u001b[39m\u001b[38;5;124mproduct-reviewer\u001b[39m\u001b[38;5;124m'\u001b[39m)\n\u001b[1;32m---> 59\u001b[0m text \u001b[38;5;241m=\u001b[39m [i\u001b[38;5;241m.\u001b[39mtext \u001b[38;5;28;01mfor\u001b[39;00m i \u001b[38;5;129;01min\u001b[39;00m product_review]\n\u001b[0;32m     60\u001b[0m \u001b[38;5;28;01mtry\u001b[39;00m:\n\u001b[0;32m     61\u001b[0m     avg_rating \u001b[38;5;241m=\u001b[39m text[\u001b[38;5;241m0\u001b[39m]\n",
      "\u001b[1;31mTypeError\u001b[0m: 'NoneType' object is not iterable"
     ]
    }
   ],
   "source": [
    "url = \"https://es.aliexpress.com/category/204011178/smart-electronics.html\"\n",
    "\n",
    "alis_project(url)\n",
    "#salsa = get_page_source(url);\n",
    "#print(salsa)\n",
    "#links = get_links(salsa);\n",
    "#print(links)\n",
    "#webcontent = web_content(links[0])\n",
    "#print(webcontent)\n",
    "#info_product = alies_parser(webcontent)\n"
   ]
  },
  {
   "cell_type": "code",
   "execution_count": 55,
   "id": "d4a4bebb",
   "metadata": {},
   "outputs": [
    {
     "data": {
      "text/plain": [
       "'http://es.aliexpress.com/item/1005004737237352.html?algo_pvid=75c74dda-88ec-4da0-b96e-35110e9fbce9&algo_exp_id=75c74dda-88ec-4da0-b96e-35110e9fbce9-0&pdp_ext_f=%7B%22sku_id%22%3A%2212000030290949785%22%7D&pdp_npi=2%40dis%21MXN%21138.76%2167.98%21%21%21%21%21%402103143616675000574877351e97e3%2112000030290949785%21sea&curPageLogUid=Gw0tro00GPb9'"
      ]
     },
     "execution_count": 55,
     "metadata": {},
     "output_type": "execute_result"
    }
   ],
   "source": [
    "links[0]"
   ]
  },
  {
   "cell_type": "code",
   "execution_count": null,
   "id": "35f715f4",
   "metadata": {},
   "outputs": [],
   "source": []
  },
  {
   "cell_type": "code",
   "execution_count": null,
   "id": "214327c6",
   "metadata": {},
   "outputs": [],
   "source": []
  }
 ],
 "metadata": {
  "kernelspec": {
   "display_name": "Python 3 (ipykernel)",
   "language": "python",
   "name": "python3"
  },
  "language_info": {
   "codemirror_mode": {
    "name": "ipython",
    "version": 3
   },
   "file_extension": ".py",
   "mimetype": "text/x-python",
   "name": "python",
   "nbconvert_exporter": "python",
   "pygments_lexer": "ipython3",
   "version": "3.9.12"
  }
 },
 "nbformat": 4,
 "nbformat_minor": 5
}
